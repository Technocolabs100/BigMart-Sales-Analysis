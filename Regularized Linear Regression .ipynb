{
 "cells": [
  {
   "cell_type": "code",
   "execution_count": 1,
   "id": "a23c4061",
   "metadata": {},
   "outputs": [
    {
     "name": "stdout",
     "output_type": "stream",
     "text": [
      "Training RMSE: 955.3729784169744\n",
      "Test RMSE: 1349.3574538521295\n"
     ]
    }
   ],
   "source": [
    "import pandas as pd\n",
    "from sklearn.model_selection import train_test_split\n",
    "from sklearn.linear_model import Ridge  \n",
    "from sklearn.preprocessing import StandardScaler\n",
    "from sklearn.metrics import mean_squared_error\n",
    "\n",
    "train = pd.read_csv(\"Train.csv\")\n",
    "\n",
    "train = pd.get_dummies(train, columns=['Item_Identifier', 'Item_Fat_Content', 'Outlet_Size', 'Item_Type', 'Outlet_Identifier', 'Outlet_Location_Type', 'Outlet_Type'])\n",
    "train.fillna(method='ffill', inplace=True)\n",
    "\n",
    "Xvars = train.drop(columns='Item_Outlet_Sales')\n",
    "Yvars = train['Item_Outlet_Sales']\n",
    "\n",
    "x_train, x_test, y_train, y_test = train_test_split(Xvars, Yvars, test_size=0.3, random_state=0)\n",
    "\n",
    "scaler = StandardScaler()\n",
    "x_train_scaled = scaler.fit_transform(x_train)\n",
    "x_test_scaled = scaler.transform(x_test)\n",
    "\n",
    "alpha = 1.0 \n",
    "ridge_model = Ridge(alpha=alpha)\n",
    "ridge_model.fit(x_train_scaled, y_train)\n",
    "\n",
    "y_train_pred = ridge_model.predict(x_train_scaled)\n",
    "y_test_pred = ridge_model.predict(x_test_scaled)\n",
    "\n",
    "train_rmse = mean_squared_error(y_train, y_train_pred, squared=False)\n",
    "test_rmse = mean_squared_error(y_test, y_test_pred, squared=False)\n",
    "print(\"Training RMSE:\", train_rmse)\n",
    "print(\"Test RMSE:\", test_rmse)\n"
   ]
  },
  {
   "cell_type": "code",
   "execution_count": null,
   "id": "b502010d",
   "metadata": {},
   "outputs": [],
   "source": []
  }
 ],
 "metadata": {
  "kernelspec": {
   "display_name": "Python 3 (ipykernel)",
   "language": "python",
   "name": "python3"
  },
  "language_info": {
   "codemirror_mode": {
    "name": "ipython",
    "version": 3
   },
   "file_extension": ".py",
   "mimetype": "text/x-python",
   "name": "python",
   "nbconvert_exporter": "python",
   "pygments_lexer": "ipython3",
   "version": "3.9.12"
  }
 },
 "nbformat": 4,
 "nbformat_minor": 5
}
